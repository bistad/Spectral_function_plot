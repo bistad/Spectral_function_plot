{
 "cells": [
  {
   "cell_type": "code",
   "execution_count": null,
   "id": "8fba4b3d",
   "metadata": {},
   "outputs": [],
   "source": [
    "# importing necessary libraries\n",
    "import pandas as pd\n",
    "import numpy as np\n",
    "import csv\n",
    "import subprocess\n",
    "import os\n",
    "import matplotlib.pyplot as plt\n",
    "import subprocess\n",
    "%matplotlib inline"
   ]
  },
  {
   "cell_type": "markdown",
   "id": "12bc3dea",
   "metadata": {},
   "source": [
    "# 1. Questaal(DFT) calculations\n",
    "#3 files ctrl.fept, script.sh, and syml.fept used\n",
    "#Output of DFT generates spf.fept text file, which should be pre-processed for plotting spectral-function."
   ]
  },
  {
   "cell_type": "code",
   "execution_count": null,
   "id": "89bb02f8",
   "metadata": {},
   "outputs": [],
   "source": [
    "command = ['sbatch', 'script.sh']\n",
    "result = subprocess.run(command, capture_output=True, text=True)\n",
    "\n",
    "# Check if the command was executed successfully\n",
    "if result.returncode == 0:\n",
    "    print(\"Job submitted successfully.\")\n",
    "    job_id = result.stdout.strip().split()[-1]  # Assuming Slurm returns \"Submitted batch job <job_id>\"\n",
    "    print(\"Job ID:\", job_id)\n",
    "else:\n",
    "    print(\"Error submitting job.\")\n",
    "    print(\"Error:\", result.stderr)\n",
    "    exit()  # Exit if job submission failed\n",
    "    \n",
    "file_path = os.path.join(os.getcwd(), 'spf.fept')\n",
    "last_size = -1\n",
    "\n",
    "while True:\n",
    "    if os.path.exists(file_path):\n",
    "        current_size = os.path.getsize(file_path)\n",
    "        if current_size == last_size:\n",
    "            print(\"File size stable, assuming DFT run is complete.\")\n",
    "            break\n",
    "        else:\n",
    "            last_size = current_size\n",
    "    else:\n",
    "        print(\"Waiting for DFT run to start and create spf.fept...\")\n",
    "    time.sleep(60)  # Check every 60 seconds"
   ]
  },
  {
   "cell_type": "markdown",
   "id": "a8cebd10",
   "metadata": {},
   "source": [
    "# 2. Data-Preprocessing: Part1\n",
    "# (a) Preprocessing to get symmetry points"
   ]
  },
  {
   "cell_type": "code",
   "execution_count": null,
   "id": "f11f1848",
   "metadata": {},
   "outputs": [],
   "source": [
    "# Get the current working directory path\n",
    "cwd = os.getcwd()\n",
    "\n",
    "# Check if the file exists in the current directory\n",
    "if os.path.exists(os.path.join(cwd, 'spf.fept')):\n",
    "    with open('spf.fept', 'r') as file:\n",
    "        lines = file.readlines()\n",
    "\n",
    "    with open('first_line.dat', 'w') as file:\n",
    "        file.write(lines[0])\n",
    "    with open('first_line.dat','r') as f:\n",
    "        content = f.read()\n",
    "        content = content.replace('#', '').strip()\n",
    "        file_string = content.split()\n",
    "        syml_val  = [0] + [float(num) for num in file_string]"
   ]
  },
  {
   "cell_type": "markdown",
   "id": "a3d1d1e2",
   "metadata": {},
   "source": [
    "#  2. Data-Preprocessing: Part1\n",
    "# (b) converting spf.fept files to csv for later conversion to dataframe"
   ]
  },
  {
   "cell_type": "code",
   "execution_count": null,
   "id": "713388e4",
   "metadata": {},
   "outputs": [],
   "source": [
    "input_file_path = 'spf.fept'\n",
    "\n",
    "with open(input_file_path, 'r') as file:\n",
    "    lines = file.readlines()\n",
    "with open(input_file_path, 'w') as file:\n",
    "    file.writelines(lines[1:])\n",
    "\n",
    "# Path to the new CSV file\n",
    "output_file_path = 'output.csv'\n",
    "\n",
    "# Open the original file and read the lines\n",
    "with open(input_file_path, 'r') as infile, open(output_file_path, 'w', newline='') as csvfile:\n",
    "    # Assuming each line of the file needs to be converted\n",
    "    writer = csv.writer(csvfile)\n",
    "    \n",
    "    # Process each line in the original file\n",
    "    for line in infile:\n",
    "        # Assuming the original file might have comments or empty lines\n",
    "        if line.split() and not line.startswith('#'):\n",
    "            values = line.strip().split()\n",
    "              # Write the values as a row in the CSV file\n",
    "            writer.writerow(values)"
   ]
  },
  {
   "cell_type": "markdown",
   "id": "f5ed4d18",
   "metadata": {},
   "source": [
    "# 2. Data-Preprocessing: Part-2 :- Further preprocessing as a dataframe to plot Spectral function."
   ]
  },
  {
   "cell_type": "code",
   "execution_count": null,
   "id": "6a67a3f5",
   "metadata": {},
   "outputs": [],
   "source": [
    "df = pd.read_csv('output.csv', names= ['frequency','distance','A_up', 'A_down'])\n",
    "df['A_up'] = (df['A_up'] + df['A_down'])/2\n",
    "df['frequency']=df['frequency'].apply(lambda x: x*13.60569806)\n",
    "df = df.drop(columns=['A_down'])\n",
    "df = df.rename(columns={'A_up': 'A'})\n",
    "df.head()"
   ]
  },
  {
   "cell_type": "markdown",
   "id": "6cc4b1b0",
   "metadata": {},
   "source": [
    "# 3. Data Visualization"
   ]
  },
  {
   "cell_type": "code",
   "execution_count": null,
   "id": "4dbd181c",
   "metadata": {},
   "outputs": [],
   "source": [
    "import matplotlib.pyplot as plt\n",
    "import pandas as pd\n",
    "\n",
    "def plot_spectral_function(df,filename=None):\n",
    "    \"\"\"\n",
    "    Plot the spectral function.\n",
    "    :param df: pandas DataFrame with the data.\n",
    "    \"\"\"\n",
    "    fig, ax = plt.subplots(figsize=(8, 5))\n",
    "    sc = ax.scatter(df['distance'], df['frequency'], c=df['A'], vmin=0, vmax=100,cmap='cividis', rasterized=True)\n",
    "    cbar = fig.colorbar(sc, ax=ax)\n",
    "    cbar.ax.tick_params(labelsize=15)\n",
    "    array = syml_val\n",
    "    labels = ['X','$\\Gamma$','M','X','R','A','$\\Gamma$','Z']\n",
    "    ax.set_ylabel('Energy (eV)',fontsize=20)\n",
    "    ax.set_xticks(array)\n",
    "    ax.set_xticklabels(labels,fontsize=20)\n",
    "    ax.grid(axis=\"x\",color='white')\n",
    "    plt.yticks(fontsize=20)\n",
    "    ax.tick_params(axis='y', direction='in',size=15)\n",
    "    ax.tick_params(axis='x', direction='in')\n",
    "    ax.set_xlim(0,3.75804)\n",
    "    ax.set_ylim(-3.5,2.5)\n",
    "    plt.axhline(y=0, xmin=0, xmax=3.75804,color='white',linestyle=\"--\")\n",
    "    plt.tight_layout()\n",
    "    plt.title(\"Spectral function of L1$_0$ phase FePt\")\n",
    "    if filename:\n",
    "        plt.savefig(filename, format=\"png\")\n",
    "    plt.show()\n",
    "    \n",
    "plot_spectral_function(df,filename=\"fept.png\")"
   ]
  }
 ],
 "metadata": {
  "kernelspec": {
   "display_name": "Python 3 (ipykernel)",
   "language": "python",
   "name": "python3"
  },
  "language_info": {
   "codemirror_mode": {
    "name": "ipython",
    "version": 3
   },
   "file_extension": ".py",
   "mimetype": "text/x-python",
   "name": "python",
   "nbconvert_exporter": "python",
   "pygments_lexer": "ipython3",
   "version": "3.8.10"
  }
 },
 "nbformat": 4,
 "nbformat_minor": 5
}
